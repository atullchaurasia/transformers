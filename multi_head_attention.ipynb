{
 "cells": [
  {
   "cell_type": "code",
   "execution_count": 1,
   "metadata": {},
   "outputs": [],
   "source": [
    "import numpy as np\n",
    "import torch\n",
    "import math\n",
    "import torch.nn as nn\n",
    "import torch.nn.functional as F"
   ]
  },
  {
   "cell_type": "code",
   "execution_count": 2,
   "metadata": {},
   "outputs": [],
   "source": [
    "sequence_length = 8\n",
    "batch_size=2\n",
    "input_dim = 512\n",
    "d_model = 512\n",
    "x = torch.randn(batch_size, sequence_length, input_dim)"
   ]
  },
  {
   "cell_type": "code",
   "execution_count": 3,
   "metadata": {},
   "outputs": [
    {
     "data": {
      "text/plain": [
       "torch.Size([2, 8, 512])"
      ]
     },
     "execution_count": 3,
     "metadata": {},
     "output_type": "execute_result"
    }
   ],
   "source": [
    "x.size()"
   ]
  },
  {
   "cell_type": "code",
   "execution_count": 4,
   "metadata": {},
   "outputs": [
    {
     "data": {
      "text/plain": [
       "tensor([[[-1.3180e+00, -3.2235e-01, -1.5186e+00,  ...,  3.5957e-04,\n",
       "          -1.9589e+00,  4.8123e-01],\n",
       "         [ 1.7617e+00,  7.7007e-03,  2.5249e-02,  ...,  8.3397e-01,\n",
       "          -9.6481e-01, -9.2821e-01],\n",
       "         [ 1.4077e+00, -5.9958e-01,  8.0367e-02,  ..., -1.7613e+00,\n",
       "           1.5038e-02, -2.2514e-01],\n",
       "         ...,\n",
       "         [ 8.2077e-01,  7.2577e-01, -2.3880e+00,  ..., -1.1423e+00,\n",
       "           6.0449e-01,  8.6482e-02],\n",
       "         [ 1.8066e-01,  7.1664e-02,  6.1804e-01,  ...,  3.9780e-01,\n",
       "          -2.4030e-01,  1.0186e+00],\n",
       "         [-1.2977e+00, -4.3615e-01,  3.9070e-01,  ...,  1.2453e+00,\n",
       "          -4.9179e-01,  2.8126e-01]],\n",
       "\n",
       "        [[-4.5732e-01,  9.6223e-01, -4.6166e-01,  ...,  2.4915e-01,\n",
       "           1.3186e+00, -1.7557e+00],\n",
       "         [ 4.9646e-02,  1.9625e-01,  1.4720e+00,  ..., -1.7075e+00,\n",
       "           2.7126e-01,  8.0068e-01],\n",
       "         [-9.8098e-01,  2.5349e-01,  1.5043e+00,  ...,  9.4976e-01,\n",
       "          -1.8435e+00,  7.9616e-01],\n",
       "         ...,\n",
       "         [-9.2094e-01,  6.3978e-01,  5.6287e-01,  ...,  1.7510e+00,\n",
       "          -7.3271e-01, -5.0618e-01],\n",
       "         [ 5.7557e-01,  1.6354e+00,  3.2487e-01,  ...,  1.4435e+00,\n",
       "           2.2905e+00,  2.2380e-03],\n",
       "         [ 6.1876e-01,  1.7465e-01, -2.2359e-01,  ..., -6.1491e-01,\n",
       "          -1.7957e+00, -8.1081e-02]]])"
      ]
     },
     "execution_count": 4,
     "metadata": {},
     "output_type": "execute_result"
    }
   ],
   "source": [
    "x"
   ]
  },
  {
   "cell_type": "code",
   "execution_count": 5,
   "metadata": {},
   "outputs": [],
   "source": [
    "qkv = nn.Linear(input_dim, 3*d_model)"
   ]
  },
  {
   "cell_type": "code",
   "execution_count": 6,
   "metadata": {},
   "outputs": [],
   "source": [
    "qkv = qkv(x)"
   ]
  },
  {
   "cell_type": "code",
   "execution_count": 7,
   "metadata": {},
   "outputs": [
    {
     "data": {
      "text/plain": [
       "torch.Size([2, 8, 1536])"
      ]
     },
     "execution_count": 7,
     "metadata": {},
     "output_type": "execute_result"
    }
   ],
   "source": [
    "qkv.size()"
   ]
  },
  {
   "cell_type": "code",
   "execution_count": 8,
   "metadata": {},
   "outputs": [
    {
     "data": {
      "text/plain": [
       "Text(0.5, 1.0, 'qkv distribution')"
      ]
     },
     "execution_count": 8,
     "metadata": {},
     "output_type": "execute_result"
    },
    {
     "data": {
      "image/png": "[encoded data removed]",
      "text/plain": [
       "<Figure size 640x480 with 1 Axes>"
      ]
     },
     "metadata": {},
     "output_type": "display_data"
    }
   ],
   "source": [
    "import matplotlib.pyplot as plt\n",
    "y_val = torch.histc(qkv, bins=200, min=-3, max=3)\n",
    "x_val = np.arange(-1, 1, 0.01)*3\n",
    "plt.bar(x_val, y_val, align='center', color='forestgreen')\n",
    "plt.title('qkv distribution')"
   ]
  },
  {
   "cell_type": "code",
   "execution_count": 9,
   "metadata": {},
   "outputs": [],
   "source": [
    "nums_head = 8\n",
    "head_dim = d_model // nums_head\n",
    "qkv = qkv.reshape(batch_size, sequence_length, nums_head, 3*head_dim)"
   ]
  },
  {
   "cell_type": "code",
   "execution_count": 10,
   "metadata": {},
   "outputs": [
    {
     "data": {
      "text/plain": [
       "torch.Size([2, 8, 8, 192])"
      ]
     },
     "execution_count": 10,
     "metadata": {},
     "output_type": "execute_result"
    }
   ],
   "source": [
    "qkv.shape"
   ]
  },
  {
   "cell_type": "code",
   "execution_count": 11,
   "metadata": {},
   "outputs": [
    {
     "data": {
      "text/plain": [
       "torch.Size([2, 8, 8, 192])"
      ]
     },
     "execution_count": 11,
     "metadata": {},
     "output_type": "execute_result"
    }
   ],
   "source": [
    "qkv.permute(0, 2, 1, 3) #batchsize, nums_head, sequence_length, 3*head_dim\n",
    "qkv.shape"
   ]
  },
  {
   "cell_type": "code",
   "execution_count": 12,
   "metadata": {},
   "outputs": [
    {
     "data": {
      "text/plain": [
       "(torch.Size([2, 8, 8, 64]),\n",
       " torch.Size([2, 8, 8, 64]),\n",
       " torch.Size([2, 8, 8, 64]))"
      ]
     },
     "execution_count": 12,
     "metadata": {},
     "output_type": "execute_result"
    }
   ],
   "source": [
    "q, k, v = qkv.chunk(3, dim=-1)\n",
    "q.shape, k.shape, v.shape"
   ]
  },
  {
   "cell_type": "code",
   "execution_count": 13,
   "metadata": {},
   "outputs": [
    {
     "data": {
      "text/plain": [
       "torch.Size([2, 8, 8, 8])"
      ]
     },
     "execution_count": 13,
     "metadata": {},
     "output_type": "execute_result"
    }
   ],
   "source": [
    "dk = q.size()[-1]\n",
    "scaled = torch.matmul(q, k.transpose(-2, -1))/math.sqrt(dk)\n",
    "scaled.shape"
   ]
  },
  {
   "cell_type": "code",
   "execution_count": 14,
   "metadata": {},
   "outputs": [
    {
     "name": "stderr",
     "output_type": "stream",
     "text": [
      "C:\\Users\\lenovo\\AppData\\Local\\Temp\\ipykernel_6212\\3717780648.py:1: UserWarning: The use of `x.T` on tensors of dimension other than 2 to reverse their shape is deprecated and it will throw an error in a future release. Consider `x.mT` to transpose batches of matrices or `x.permute(*torch.arange(x.ndim - 1, -1, -1))` to reverse the dimensions of a tensor. (Triggered internally at C:\\actions-runner\\_work\\pytorch\\pytorch\\builder\\windows\\pytorch\\aten\\src\\ATen\\native\\TensorShape.cpp:3687.)\n",
      "  k.T.shape\n"
     ]
    },
    {
     "data": {
      "text/plain": [
       "torch.Size([64, 8, 8, 2])"
      ]
     },
     "execution_count": 14,
     "metadata": {},
     "output_type": "execute_result"
    }
   ],
   "source": [
    "k.T.shape"
   ]
  },
  {
   "cell_type": "code",
   "execution_count": 15,
   "metadata": {},
   "outputs": [
    {
     "data": {
      "text/plain": [
       "tensor([[0., -inf, -inf, -inf, -inf, -inf, -inf, -inf],\n",
       "        [0., 0., -inf, -inf, -inf, -inf, -inf, -inf],\n",
       "        [0., 0., 0., -inf, -inf, -inf, -inf, -inf],\n",
       "        [0., 0., 0., 0., -inf, -inf, -inf, -inf],\n",
       "        [0., 0., 0., 0., 0., -inf, -inf, -inf],\n",
       "        [0., 0., 0., 0., 0., 0., -inf, -inf],\n",
       "        [0., 0., 0., 0., 0., 0., 0., -inf],\n",
       "        [0., 0., 0., 0., 0., 0., 0., 0.]])"
      ]
     },
     "execution_count": 15,
     "metadata": {},
     "output_type": "execute_result"
    }
   ],
   "source": [
    "mask = torch.full(scaled.size(), float('-inf'))\n",
    "mask = torch.triu(mask, diagonal=1)\n",
    "mask[0][1]"
   ]
  },
  {
   "cell_type": "code",
   "execution_count": 16,
   "metadata": {},
   "outputs": [
    {
     "data": {
      "text/plain": [
       "tensor([[-6.4553e-01,        -inf,        -inf,        -inf,        -inf,\n",
       "                -inf,        -inf,        -inf],\n",
       "        [ 1.6439e-01, -8.9368e-02,        -inf,        -inf,        -inf,\n",
       "                -inf,        -inf,        -inf],\n",
       "        [ 2.4204e-01,  9.6823e-03, -5.9521e-01,        -inf,        -inf,\n",
       "                -inf,        -inf,        -inf],\n",
       "        [-6.4056e-01, -7.0151e-01, -2.9663e-01, -2.6112e-01,        -inf,\n",
       "                -inf,        -inf,        -inf],\n",
       "        [-2.5240e-01,  1.3881e-01, -7.0492e-01, -1.9877e-01, -2.7607e-02,\n",
       "                -inf,        -inf,        -inf],\n",
       "        [ 8.7582e-01, -3.6660e-01, -3.7445e-01,  1.2254e-01,  9.7166e-02,\n",
       "         -2.7331e-01,        -inf,        -inf],\n",
       "        [ 3.0832e-01,  4.0796e-01, -2.6627e-01, -3.3140e-05,  2.6347e-02,\n",
       "          1.0838e-01,  6.9217e-02,        -inf],\n",
       "        [ 8.0213e-01, -3.3212e-01, -8.7427e-01,  8.5008e-01, -8.6817e-01,\n",
       "          2.3254e-01,  1.0150e-01, -9.4729e-01]], grad_fn=<SelectBackward0>)"
      ]
     },
     "execution_count": 16,
     "metadata": {},
     "output_type": "execute_result"
    }
   ],
   "source": [
    "(scaled + mask)[0][0]"
   ]
  },
  {
   "cell_type": "code",
   "execution_count": 17,
   "metadata": {},
   "outputs": [],
   "source": [
    "scaled +=mask"
   ]
  },
  {
   "cell_type": "code",
   "execution_count": 18,
   "metadata": {},
   "outputs": [
    {
     "data": {
      "text/plain": [
       "torch.Size([2, 8, 8, 8])"
      ]
     },
     "execution_count": 18,
     "metadata": {},
     "output_type": "execute_result"
    }
   ],
   "source": [
    "attention = F.softmax(scaled, dim=-1)\n",
    "attention.shape"
   ]
  },
  {
   "cell_type": "code",
   "execution_count": 19,
   "metadata": {},
   "outputs": [
    {
     "data": {
      "text/plain": [
       "tensor([[1.0000, 0.0000, 0.0000, 0.0000, 0.0000, 0.0000, 0.0000, 0.0000],\n",
       "        [0.5631, 0.4369, 0.0000, 0.0000, 0.0000, 0.0000, 0.0000, 0.0000],\n",
       "        [0.4493, 0.3562, 0.1945, 0.0000, 0.0000, 0.0000, 0.0000, 0.0000],\n",
       "        [0.2078, 0.1955, 0.2931, 0.3037, 0.0000, 0.0000, 0.0000, 0.0000],\n",
       "        [0.1844, 0.2727, 0.1173, 0.1946, 0.2309, 0.0000, 0.0000, 0.0000],\n",
       "        [0.3544, 0.1023, 0.1015, 0.1668, 0.1627, 0.1123, 0.0000, 0.0000],\n",
       "        [0.1735, 0.1917, 0.0977, 0.1275, 0.1309, 0.1421, 0.1366, 0.0000],\n",
       "        [0.2511, 0.0808, 0.0470, 0.2635, 0.0473, 0.1421, 0.1246, 0.0437]],\n",
       "       grad_fn=<SelectBackward0>)"
      ]
     },
     "execution_count": 19,
     "metadata": {},
     "output_type": "execute_result"
    }
   ],
   "source": [
    "attention[0][0]"
   ]
  },
  {
   "cell_type": "code",
   "execution_count": 20,
   "metadata": {},
   "outputs": [
    {
     "data": {
      "text/plain": [
       "torch.Size([2, 8, 8, 64])"
      ]
     },
     "execution_count": 20,
     "metadata": {},
     "output_type": "execute_result"
    }
   ],
   "source": [
    "values = torch.matmul(attention, v)\n",
    "values.shape"
   ]
  },
  {
   "cell_type": "code",
   "execution_count": 21,
   "metadata": {},
   "outputs": [],
   "source": [
    "import math\n",
    "def scaled_dot_product(q,k,v, mask=None):\n",
    "    dk = q.size()[-1]\n",
    "    scaled = torch.matmul(q, k.transpose(-1,-2))/math.sqrt(dk)\n",
    "    if mask is not None:\n",
    "        scaled += mask\n",
    "        attention = F.softmax(scaled, dim=-1)\n",
    "        values = torch.matmul(attention, v)\n",
    "        return values, attention"
   ]
  },
  {
   "cell_type": "code",
   "execution_count": 22,
   "metadata": {},
   "outputs": [],
   "source": [
    "values, attention = scaled_dot_product(q, k, v, mask=mask)"
   ]
  },
  {
   "cell_type": "code",
   "execution_count": 23,
   "metadata": {},
   "outputs": [
    {
     "data": {
      "text/plain": [
       "torch.Size([2, 8, 8, 8])"
      ]
     },
     "execution_count": 23,
     "metadata": {},
     "output_type": "execute_result"
    }
   ],
   "source": [
    "attention.shape"
   ]
  },
  {
   "cell_type": "code",
   "execution_count": 24,
   "metadata": {},
   "outputs": [
    {
     "data": {
      "text/plain": [
       "tensor([[1.0000, 0.0000, 0.0000, 0.0000, 0.0000, 0.0000, 0.0000, 0.0000],\n",
       "        [0.5631, 0.4369, 0.0000, 0.0000, 0.0000, 0.0000, 0.0000, 0.0000],\n",
       "        [0.4493, 0.3562, 0.1945, 0.0000, 0.0000, 0.0000, 0.0000, 0.0000],\n",
       "        [0.2078, 0.1955, 0.2931, 0.3037, 0.0000, 0.0000, 0.0000, 0.0000],\n",
       "        [0.1844, 0.2727, 0.1173, 0.1946, 0.2309, 0.0000, 0.0000, 0.0000],\n",
       "        [0.3544, 0.1023, 0.1015, 0.1668, 0.1627, 0.1123, 0.0000, 0.0000],\n",
       "        [0.1735, 0.1917, 0.0977, 0.1275, 0.1309, 0.1421, 0.1366, 0.0000],\n",
       "        [0.2511, 0.0808, 0.0470, 0.2635, 0.0473, 0.1421, 0.1246, 0.0437]],\n",
       "       grad_fn=<SelectBackward0>)"
      ]
     },
     "execution_count": 24,
     "metadata": {},
     "output_type": "execute_result"
    }
   ],
   "source": [
    "attention[0][0]"
   ]
  },
  {
   "cell_type": "code",
   "execution_count": 25,
   "metadata": {},
   "outputs": [
    {
     "data": {
      "text/plain": [
       "torch.Size([2, 8, 8, 64])"
      ]
     },
     "execution_count": 25,
     "metadata": {},
     "output_type": "execute_result"
    }
   ],
   "source": [
    "values.size()"
   ]
  },
  {
   "cell_type": "code",
   "execution_count": 26,
   "metadata": {},
   "outputs": [
    {
     "data": {
      "text/plain": [
       "torch.Size([2, 8, 512])"
      ]
     },
     "execution_count": 26,
     "metadata": {},
     "output_type": "execute_result"
    }
   ],
   "source": [
    "values = values.reshape(batch_size, sequence_length, nums_head*head_dim)\n",
    "values.size()"
   ]
  },
  {
   "cell_type": "code",
   "execution_count": 27,
   "metadata": {},
   "outputs": [],
   "source": [
    "linear_layer = nn.Linear(d_model, d_model)"
   ]
  },
  {
   "cell_type": "code",
   "execution_count": 28,
   "metadata": {},
   "outputs": [],
   "source": [
    "out = linear_layer(values)"
   ]
  },
  {
   "cell_type": "code",
   "execution_count": 29,
   "metadata": {},
   "outputs": [
    {
     "data": {
      "text/plain": [
       "torch.Size([2, 8, 512])"
      ]
     },
     "execution_count": 29,
     "metadata": {},
     "output_type": "execute_result"
    }
   ],
   "source": [
    "out.shape"
   ]
  },
  {
   "cell_type": "code",
   "execution_count": 30,
   "metadata": {},
   "outputs": [],
   "source": [
    "def scaled_dot_product(q, k, v, mask=None):\n",
    "    dk = q.size()[-1]\n",
    "    scaled = torch.matmul(q, k.transpose(-1, -2)) / math.sqrt(dk)\n",
    "    if mask is not None:\n",
    "        scaled += mask\n",
    "    attention = F.softmax(scaled, dim=-1)\n",
    "    values = torch.matmul(attention, v)\n",
    "    return values, attention\n",
    "\n",
    "class MultiheadAttention(nn.Module):\n",
    "    def __init__(self, input_dim, d_model, num_heads):\n",
    "        super().__init__()\n",
    "        self.input_dim = input_dim\n",
    "        self.d_model = d_model\n",
    "        self.num_heads = num_heads\n",
    "        self.head_dim = d_model // num_heads\n",
    "        self.qkv_layer = nn.Linear(input_dim, 3 * d_model)  # 3 * d_model for q, k, v\n",
    "        self.linear_layer = nn.Linear(d_model, d_model)  # Output transformation\n",
    "\n",
    "    def forward(self, x, mask=None):\n",
    "        batch_size, sequence_length, input_dim = x.size()\n",
    "        print(f\"x.size(): {x.size()}\")\n",
    "        qkv = self.qkv_layer(x)   # Apply the qkv linear transformation\n",
    "        print(f\"qkv.size(): {qkv.size()}\")\n",
    "        qkv = qkv.reshape(batch_size, sequence_length, self.num_heads, 3 * self.head_dim)          # Reshape into (batch_size, sequence_length, num_heads, 3 * head_dim)\n",
    "        print(f\"qkv reshaped: {qkv.size()}\")\n",
    "        qkv = qkv.permute(0, 2, 1, 3) # Permute to (batch_size, num_heads, sequence_length, 3 * head_dim\n",
    "        print(f\"qkv permuted: {qkv.size()}\")\n",
    "        q, k, v = qkv.chunk(3, dim=-1) \n",
    "        print(f\"q.size(): {q.size()}, k.size(): {k.size()}, v.size(): {v.size()}\") # Split into q, k, v tensor\n",
    "        values, attention = scaled_dot_product(q, k, v, mask) # Compute attention\n",
    "        print(f\"values.size(): {values.size()}, attention.size(): {attention.size()}\")\n",
    "        values = values.reshape(batch_size, sequence_length, self.num_heads * self.head_dim) # Reshape the values to (batch_size, sequence_length, d_model)\n",
    "        print(f\"values reshaped: {values.size()}\")\n",
    "        out = self.linear_layer(values) # Apply final linear transformation\n",
    "        print(f\"out.size(): {out.size()}\")\n",
    "        return out"
   ]
  },
  {
   "cell_type": "code",
   "execution_count": 31,
   "metadata": {},
   "outputs": [
    {
     "name": "stdout",
     "output_type": "stream",
     "text": [
      "x.size(): torch.Size([30, 5, 1024])\n",
      "qkv.size(): torch.Size([30, 5, 1536])\n",
      "qkv reshaped: torch.Size([30, 5, 8, 192])\n",
      "qkv permuted: torch.Size([30, 8, 5, 192])\n",
      "q.size(): torch.Size([30, 8, 5, 64]), k.size(): torch.Size([30, 8, 5, 64]), v.size(): torch.Size([30, 8, 5, 64])\n",
      "values.size(): torch.Size([30, 8, 5, 64]), attention.size(): torch.Size([30, 8, 5, 5])\n",
      "values reshaped: torch.Size([30, 5, 512])\n",
      "out.size(): torch.Size([30, 5, 512])\n"
     ]
    }
   ],
   "source": [
    "input_dim = 1024\n",
    "d_model=512\n",
    "nums_head= 8\n",
    "batch_size=30\n",
    "sequence_length= 5\n",
    "x = torch.rand((batch_size, sequence_length, input_dim))\n",
    "\n",
    "model = MultiheadAttention(input_dim, d_model, nums_head)\n",
    "out = model.forward(x)"
   ]
  }
 ],
 "metadata": {
  "kernelspec": {
   "display_name": "Python 3",
   "language": "python",
   "name": "python3"
  },
  "language_info": {
   "codemirror_mode": {
    "name": "ipython",
    "version": 3
   },
   "file_extension": ".py",
   "mimetype": "text/x-python",
   "name": "python",
   "nbconvert_exporter": "python",
   "pygments_lexer": "ipython3",
   "version": "3.11.8"
  }
 },
 "nbformat": 4,
 "nbformat_minor": 2
}

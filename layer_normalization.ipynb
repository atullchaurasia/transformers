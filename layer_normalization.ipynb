{
 "cells": [
  {
   "cell_type": "code",
   "execution_count": 63,
   "metadata": {},
   "outputs": [],
   "source": [
    "import torch\n",
    "import torch.nn as nn"
   ]
  },
  {
   "cell_type": "code",
   "execution_count": 64,
   "metadata": {},
   "outputs": [
    {
     "data": {
      "text/plain": [
       "torch.Size([2, 1, 5])"
      ]
     },
     "execution_count": 64,
     "metadata": {},
     "output_type": "execute_result"
    }
   ],
   "source": [
    "inputs = torch.tensor([[[0.2, 0.1, 0.6, 0.8, 1.0], [0.5, 0.7, 1.2, 0.9, 0.2]]])\n",
    "batch_size, sequence_length, embedding_dim = inputs.size()\n",
    "inputs = inputs.reshape(sequence_length, batch_size, embedding_dim)\n",
    "inputs.size()"
   ]
  },
  {
   "cell_type": "code",
   "execution_count": 65,
   "metadata": {},
   "outputs": [],
   "source": [
    "parameter_shape = inputs.size()[-2:]\n",
    "gamma = nn.Parameter(torch.ones(parameter_shape)) \n",
    "beta = nn.Parameter(torch.zeros(parameter_shape))"
   ]
  },
  {
   "cell_type": "code",
   "execution_count": 66,
   "metadata": {},
   "outputs": [
    {
     "data": {
      "text/plain": [
       "(torch.Size([1, 5]), torch.Size([1, 5]))"
      ]
     },
     "execution_count": 66,
     "metadata": {},
     "output_type": "execute_result"
    }
   ],
   "source": [
    "gamma.size(), beta.size()"
   ]
  },
  {
   "cell_type": "code",
   "execution_count": 67,
   "metadata": {},
   "outputs": [],
   "source": [
    "dims = [-(i+1) for i in range(len(parameter_shape))]"
   ]
  },
  {
   "cell_type": "code",
   "execution_count": 68,
   "metadata": {},
   "outputs": [
    {
     "data": {
      "text/plain": [
       "[-1, -2]"
      ]
     },
     "execution_count": 68,
     "metadata": {},
     "output_type": "execute_result"
    }
   ],
   "source": [
    "dims"
   ]
  },
  {
   "cell_type": "code",
   "execution_count": 69,
   "metadata": {},
   "outputs": [
    {
     "data": {
      "text/plain": [
       "torch.Size([2, 1, 1])"
      ]
     },
     "execution_count": 69,
     "metadata": {},
     "output_type": "execute_result"
    }
   ],
   "source": [
    "mean = inputs.mean(dim=dims, keepdim=True)\n",
    "mean.size()"
   ]
  },
  {
   "cell_type": "code",
   "execution_count": 70,
   "metadata": {},
   "outputs": [
    {
     "data": {
      "text/plain": [
       "tensor([[[0.5400]],\n",
       "\n",
       "        [[0.7000]]])"
      ]
     },
     "execution_count": 70,
     "metadata": {},
     "output_type": "execute_result"
    }
   ],
   "source": [
    "mean"
   ]
  },
  {
   "cell_type": "code",
   "execution_count": 71,
   "metadata": {},
   "outputs": [
    {
     "data": {
      "text/plain": [
       "tensor([[[0.3441]],\n",
       "\n",
       "        [[0.3406]]])"
      ]
     },
     "execution_count": 71,
     "metadata": {},
     "output_type": "execute_result"
    }
   ],
   "source": [
    "var = ((inputs - mean)**2).mean(dim=dims, keepdim=True)\n",
    "epsilon = 1e-5\n",
    "std = (var + epsilon).sqrt()\n",
    "std"
   ]
  },
  {
   "cell_type": "code",
   "execution_count": 72,
   "metadata": {},
   "outputs": [],
   "source": [
    "y = (inputs - mean)/std"
   ]
  },
  {
   "cell_type": "code",
   "execution_count": 73,
   "metadata": {},
   "outputs": [
    {
     "data": {
      "text/plain": [
       "tensor([[[-0.9881, -1.2787,  0.1744,  0.7556,  1.3368]],\n",
       "\n",
       "        [[-0.5872,  0.0000,  1.4680,  0.5872, -1.4680]]])"
      ]
     },
     "execution_count": 73,
     "metadata": {},
     "output_type": "execute_result"
    }
   ],
   "source": [
    "y"
   ]
  },
  {
   "cell_type": "code",
   "execution_count": 74,
   "metadata": {},
   "outputs": [
    {
     "data": {
      "text/plain": [
       "tensor([[[-0.9881, -1.2787,  0.1744,  0.7556,  1.3368]],\n",
       "\n",
       "        [[-0.5872,  0.0000,  1.4680,  0.5872, -1.4680]]],\n",
       "       grad_fn=<AddBackward0>)"
      ]
     },
     "execution_count": 74,
     "metadata": {},
     "output_type": "execute_result"
    }
   ],
   "source": [
    "out = gamma*y + beta\n",
    "out"
   ]
  },
  {
   "cell_type": "code",
   "execution_count": 94,
   "metadata": {},
   "outputs": [],
   "source": [
    "class LayerNormalization():\n",
    "    def __init__(self, parameter_shape, epsilon=1e-5):\n",
    "        self.parameters_shape = parameter_shape\n",
    "        self.epsilon = epsilon\n",
    "        self.gamma = nn.Parameter(torch.ones(parameter_shape)) \n",
    "        self.beta = nn.Parameter(torch.zeros(parameter_shape)) \n",
    "        \n",
    "    def forward(self):\n",
    "        dims = [-(i+1) for i in range(len(self.parameters_shape))]\n",
    "        mean = inputs.mean(dim=dims, keepdim=True)\n",
    "        print(f\"Mean \\n ({mean.size()}): \\n {mean}\")\n",
    "        var = ((inputs - mean)**2).mean(dim=dims, keepdim=True)\n",
    "        std = (var + self.epsilon).sqrt()\n",
    "        print(f\"Standard Deviation \\n ({std.size()}): \\n {std}\")\n",
    "        y = (inputs - mean)/std\n",
    "        print(f\"y \\n ({y.size()}): \\n {y}\") \n",
    "        out = self.gamma*y + beta\n",
    "        print(f\"out \\n ({out.size()}): \\n {out}\")\n",
    "        return out"
   ]
  },
  {
   "cell_type": "code",
   "execution_count": 95,
   "metadata": {},
   "outputs": [
    {
     "name": "stdout",
     "output_type": "stream",
     "text": [
      "inputs \n",
      " (torch.Size([5, 3, 5])) = \n",
      " tensor([[[-0.6284, -1.4106, -0.5916,  0.6018,  0.5532],\n",
      "         [ 1.5317,  1.1787,  0.1882,  0.4501, -1.6880],\n",
      "         [-0.2660, -0.2961,  0.4096,  1.1616,  2.0313]],\n",
      "\n",
      "        [[-0.9347,  0.2804, -1.0159, -0.8371, -2.1791],\n",
      "         [-0.0864, -0.7040, -0.6551, -1.2941, -0.0737],\n",
      "         [ 0.6322,  1.7580,  0.2413,  0.3812,  0.2824]],\n",
      "\n",
      "        [[-0.6021, -0.7671,  0.6160,  0.5653,  0.2687],\n",
      "         [ 1.7863, -2.2471, -0.2779,  0.0600, -0.8889],\n",
      "         [ 0.5550,  0.1710,  0.6645, -0.1573,  0.2674]],\n",
      "\n",
      "        [[ 0.2417,  0.5487, -0.5366, -0.8463,  2.2895],\n",
      "         [-1.4366,  0.5802,  0.8936, -1.9977, -1.1401],\n",
      "         [-0.9619,  1.9332, -0.2121, -0.5633, -0.9769]],\n",
      "\n",
      "        [[ 1.9679,  0.3920,  0.2808,  0.0888,  0.8088],\n",
      "         [-1.0344,  0.7729,  0.3008,  0.6770, -0.1856],\n",
      "         [-0.3712, -1.0949, -1.4734, -0.5244,  0.0584]]])\n"
     ]
    }
   ],
   "source": [
    "batch_size=3\n",
    "sequence_length = 5\n",
    "embedding_size = 8\n",
    "\n",
    "inputs = torch.randn(sequence_length, batch_size, embedding_dim)\n",
    "print(f\"inputs \\n ({inputs.size()}) = \\n {inputs}\")"
   ]
  },
  {
   "cell_type": "code",
   "execution_count": 96,
   "metadata": {},
   "outputs": [],
   "source": [
    "layer_norm = LayerNormalization(inputs.size()[-2:])"
   ]
  },
  {
   "cell_type": "code",
   "execution_count": 98,
   "metadata": {},
   "outputs": [
    {
     "name": "stdout",
     "output_type": "stream",
     "text": [
      "Mean \n",
      " (torch.Size([5, 1, 1])): \n",
      " tensor([[[ 0.2150]],\n",
      "\n",
      "        [[-0.2803]],\n",
      "\n",
      "        [[ 0.0009]],\n",
      "\n",
      "        [[-0.1456]],\n",
      "\n",
      "        [[ 0.0442]]])\n",
      "Standard Deviation \n",
      " (torch.Size([5, 1, 1])): \n",
      " tensor([[[1.0111]],\n",
      "\n",
      "        [[0.9180]],\n",
      "\n",
      "        [[0.8835]],\n",
      "\n",
      "        [[1.1763]],\n",
      "\n",
      "        [[0.8475]]])\n",
      "y \n",
      " (torch.Size([5, 3, 5])): \n",
      " tensor([[[-0.8342, -1.6078, -0.7978,  0.3825,  0.3344],\n",
      "         [ 1.3022,  0.9531, -0.0266,  0.2325, -1.8822],\n",
      "         [-0.4758, -0.5056,  0.1925,  0.9363,  1.7964]],\n",
      "\n",
      "        [[-0.7128,  0.6108, -0.8013, -0.6065, -2.0684],\n",
      "         [ 0.2113, -0.4616, -0.4082, -1.1044,  0.2251],\n",
      "         [ 0.9940,  2.2204,  0.5682,  0.7206,  0.6130]],\n",
      "\n",
      "        [[-0.6825, -0.8693,  0.6962,  0.6388,  0.3031],\n",
      "         [ 2.0209, -2.5444, -0.3156,  0.0668, -1.0071],\n",
      "         [ 0.6272,  0.1925,  0.7511, -0.1790,  0.3016]],\n",
      "\n",
      "        [[ 0.3293,  0.5903, -0.3324, -0.5957,  2.0701],\n",
      "         [-1.0974,  0.6170,  0.8834, -1.5744, -0.8454],\n",
      "         [-0.6939,  1.7672, -0.0565, -0.3550, -0.7066]],\n",
      "\n",
      "        [[ 2.2698,  0.4103,  0.2791,  0.0526,  0.9021],\n",
      "         [-1.2726,  0.8598,  0.3028,  0.7467, -0.2712],\n",
      "         [-0.4902, -1.3441, -1.7906, -0.6710,  0.0167]]])\n",
      "out \n",
      " (torch.Size([5, 3, 5])): \n",
      " tensor([[[-0.8342, -1.6078, -0.7978,  0.3825,  0.3344],\n",
      "         [ 1.3022,  0.9531, -0.0266,  0.2325, -1.8822],\n",
      "         [-0.4758, -0.5056,  0.1925,  0.9363,  1.7964]],\n",
      "\n",
      "        [[-0.7128,  0.6108, -0.8013, -0.6065, -2.0684],\n",
      "         [ 0.2113, -0.4616, -0.4082, -1.1044,  0.2251],\n",
      "         [ 0.9940,  2.2204,  0.5682,  0.7206,  0.6130]],\n",
      "\n",
      "        [[-0.6825, -0.8693,  0.6962,  0.6388,  0.3031],\n",
      "         [ 2.0209, -2.5444, -0.3156,  0.0668, -1.0071],\n",
      "         [ 0.6272,  0.1925,  0.7511, -0.1790,  0.3016]],\n",
      "\n",
      "        [[ 0.3293,  0.5903, -0.3324, -0.5957,  2.0701],\n",
      "         [-1.0974,  0.6170,  0.8834, -1.5744, -0.8454],\n",
      "         [-0.6939,  1.7672, -0.0565, -0.3550, -0.7066]],\n",
      "\n",
      "        [[ 2.2698,  0.4103,  0.2791,  0.0526,  0.9021],\n",
      "         [-1.2726,  0.8598,  0.3028,  0.7467, -0.2712],\n",
      "         [-0.4902, -1.3441, -1.7906, -0.6710,  0.0167]]],\n",
      "       grad_fn=<AddBackward0>)\n"
     ]
    }
   ],
   "source": [
    "out = layer_norm.forward()"
   ]
  },
  {
   "cell_type": "code",
   "execution_count": null,
   "metadata": {},
   "outputs": [],
   "source": []
  },
  {
   "cell_type": "code",
   "execution_count": null,
   "metadata": {},
   "outputs": [],
   "source": []
  },
  {
   "cell_type": "code",
   "execution_count": null,
   "metadata": {},
   "outputs": [],
   "source": []
  },
  {
   "cell_type": "code",
   "execution_count": null,
   "metadata": {},
   "outputs": [],
   "source": []
  }
 ],
 "metadata": {
  "kernelspec": {
   "display_name": "Python 3",
   "language": "python",
   "name": "python3"
  },
  "language_info": {
   "codemirror_mode": {
    "name": "ipython",
    "version": 3
   },
   "file_extension": ".py",
   "mimetype": "text/x-python",
   "name": "python",
   "nbconvert_exporter": "python",
   "pygments_lexer": "ipython3",
   "version": "3.11.8"
  }
 },
 "nbformat": 4,
 "nbformat_minor": 2
}

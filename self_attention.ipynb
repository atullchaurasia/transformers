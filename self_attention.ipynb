{
 "cells": [
  {
   "cell_type": "code",
   "execution_count": 2,
   "metadata": {},
   "outputs": [],
   "source": [
    "import numpy as np\n",
    "import math\n",
    "\n",
    "L, dk,dv = 4,8,8\n",
    "q = np.random.randn(L, dk)\n",
    "k = np.random.rand(L, dk)\n",
    "v = np.random.rand(L, dv)"
   ]
  },
  {
   "cell_type": "code",
   "execution_count": 3,
   "metadata": {},
   "outputs": [
    {
     "data": {
      "text/plain": [
       "array([[-0.31133363, -0.87793783, -0.31490595,  2.17640748,  0.3600335 ,\n",
       "         1.06512027, -0.85942329,  0.37341986],\n",
       "       [-0.99770687,  0.26922153, -0.55465703, -0.28162611,  1.33060989,\n",
       "         1.17128111, -0.61062311,  0.10770465],\n",
       "       [ 0.01200964,  1.84521253, -0.60227995, -0.51196604, -1.91170582,\n",
       "        -1.32014111,  0.83236064,  0.12071681],\n",
       "       [ 0.18606656,  1.2195091 , -0.70221978, -0.63373185, -1.2063781 ,\n",
       "        -0.86902947,  0.38435486,  0.76094921]])"
      ]
     },
     "execution_count": 3,
     "metadata": {},
     "output_type": "execute_result"
    }
   ],
   "source": [
    "q"
   ]
  },
  {
   "cell_type": "code",
   "execution_count": 4,
   "metadata": {},
   "outputs": [
    {
     "data": {
      "text/plain": [
       "array([[0.9808406 , 0.50926205, 0.71224208, 0.31978649, 0.69250348,\n",
       "        0.61322205, 0.68810579, 0.98649613],\n",
       "       [0.72899978, 0.87485509, 0.70117927, 0.46789814, 0.3685546 ,\n",
       "        0.48470362, 0.14961847, 0.30638599],\n",
       "       [0.17090021, 0.255414  , 0.91462907, 0.37681794, 0.52254827,\n",
       "        0.9262963 , 0.17388457, 0.69738299],\n",
       "       [0.18829599, 0.60115719, 0.60818373, 0.12296862, 0.17642633,\n",
       "        0.50343693, 0.06987171, 0.38229689]])"
      ]
     },
     "execution_count": 4,
     "metadata": {},
     "output_type": "execute_result"
    }
   ],
   "source": [
    "k"
   ]
  },
  {
   "cell_type": "code",
   "execution_count": 5,
   "metadata": {},
   "outputs": [
    {
     "data": {
      "text/plain": [
       "array([[0.77113831, 0.28168928, 0.04169793, 0.70078286, 0.95780301,\n",
       "        0.13583416, 0.08558999, 0.12378819],\n",
       "       [0.48576079, 0.11203749, 0.30519042, 0.25840746, 0.76216195,\n",
       "        0.28749048, 0.5929646 , 0.1550846 ],\n",
       "       [0.90363364, 0.77547421, 0.33990465, 0.44541323, 0.29290804,\n",
       "        0.24549456, 0.51608346, 0.93653209],\n",
       "       [0.82970568, 0.03625615, 0.93122519, 0.53816238, 0.34591903,\n",
       "        0.10417705, 0.50825013, 0.06667975]])"
      ]
     },
     "execution_count": 5,
     "metadata": {},
     "output_type": "execute_result"
    }
   ],
   "source": [
    "v"
   ]
  },
  {
   "cell_type": "code",
   "execution_count": 6,
   "metadata": {},
   "outputs": [
    {
     "data": {
      "text/plain": [
       "array([[ 3.98710151e-01,  4.37285623e-01,  1.54037071e+00,\n",
       "         1.72155783e-01],\n",
       "       [-8.13101920e-04, -1.27193089e-02,  1.03402214e+00,\n",
       "         4.24946366e-01],\n",
       "       [-1.08277640e+00, -2.21728255e-01, -2.26331503e+00,\n",
       "        -2.15303387e-01],\n",
       "       [-2.52436829e-01, -1.61554848e-01, -1.37565680e+00,\n",
       "        -6.94298722e-02]])"
      ]
     },
     "execution_count": 6,
     "metadata": {},
     "output_type": "execute_result"
    }
   ],
   "source": [
    "np.matmul(q, k.T)"
   ]
  },
  {
   "cell_type": "code",
   "execution_count": 7,
   "metadata": {},
   "outputs": [
    {
     "data": {
      "text/plain": [
       "(0.8847546399085398, 0.07150654420719968, 0.7631445428958854)"
      ]
     },
     "execution_count": 7,
     "metadata": {},
     "output_type": "execute_result"
    }
   ],
   "source": [
    "q.var(), k.var(), np.matmul(q, k.T).var()"
   ]
  },
  {
   "cell_type": "code",
   "execution_count": 8,
   "metadata": {},
   "outputs": [
    {
     "data": {
      "text/plain": [
       "(0.8847546399085398, 0.07150654420719968, 0.09539306786198568)"
      ]
     },
     "execution_count": 8,
     "metadata": {},
     "output_type": "execute_result"
    }
   ],
   "source": [
    "scaled = np.matmul(q, k.T)/math.sqrt(dk)\n",
    "q.var(), k.var(), scaled.var()"
   ]
  },
  {
   "cell_type": "code",
   "execution_count": 9,
   "metadata": {},
   "outputs": [
    {
     "data": {
      "text/plain": [
       "array([[ 1.40965326e-01,  1.54603815e-01,  5.44603286e-01,\n",
       "         6.08662608e-02],\n",
       "       [-2.87474941e-04, -4.49695478e-03,  3.65582033e-01,\n",
       "         1.50241228e-01],\n",
       "       [-3.82819269e-01, -7.83927763e-02, -8.00202704e-01,\n",
       "        -7.61212425e-02],\n",
       "       [-8.92498967e-02, -5.71182642e-02, -4.86368125e-01,\n",
       "        -2.45471667e-02]])"
      ]
     },
     "execution_count": 9,
     "metadata": {},
     "output_type": "execute_result"
    }
   ],
   "source": [
    "scaled"
   ]
  },
  {
   "cell_type": "code",
   "execution_count": 10,
   "metadata": {},
   "outputs": [
    {
     "data": {
      "text/plain": [
       "array([[1., 0., 0., 0.],\n",
       "       [1., 1., 0., 0.],\n",
       "       [1., 1., 1., 0.],\n",
       "       [1., 1., 1., 1.]])"
      ]
     },
     "execution_count": 10,
     "metadata": {},
     "output_type": "execute_result"
    }
   ],
   "source": [
    "#decoder\n",
    "mask = np.tril(np.ones((L,L)))\n",
    "mask    "
   ]
  },
  {
   "cell_type": "code",
   "execution_count": 11,
   "metadata": {},
   "outputs": [],
   "source": [
    "mask[mask==0] = -np.infty\n",
    "mask[mask==1] = 0\n"
   ]
  },
  {
   "cell_type": "code",
   "execution_count": 12,
   "metadata": {},
   "outputs": [
    {
     "data": {
      "text/plain": [
       "array([[  0., -inf, -inf, -inf],\n",
       "       [  0.,   0., -inf, -inf],\n",
       "       [  0.,   0.,   0., -inf],\n",
       "       [  0.,   0.,   0.,   0.]])"
      ]
     },
     "execution_count": 12,
     "metadata": {},
     "output_type": "execute_result"
    }
   ],
   "source": [
    "mask"
   ]
  },
  {
   "cell_type": "code",
   "execution_count": 13,
   "metadata": {},
   "outputs": [
    {
     "data": {
      "text/plain": [
       "array([[ 1.40965326e-01,            -inf,            -inf,\n",
       "                   -inf],\n",
       "       [-2.87474941e-04, -4.49695478e-03,            -inf,\n",
       "                   -inf],\n",
       "       [-3.82819269e-01, -7.83927763e-02, -8.00202704e-01,\n",
       "                   -inf],\n",
       "       [-8.92498967e-02, -5.71182642e-02, -4.86368125e-01,\n",
       "        -2.45471667e-02]])"
      ]
     },
     "execution_count": 13,
     "metadata": {},
     "output_type": "execute_result"
    }
   ],
   "source": [
    "scaled + mask"
   ]
  },
  {
   "cell_type": "code",
   "execution_count": 14,
   "metadata": {},
   "outputs": [],
   "source": [
    "def softmax(x):\n",
    "    return (np.exp(x).T/ np.sum(np.exp(x), axis=-1)).T"
   ]
  },
  {
   "cell_type": "code",
   "execution_count": 15,
   "metadata": {},
   "outputs": [
    {
     "data": {
      "text/plain": [
       "array([[1.        , 0.        , 0.        , 0.        ],\n",
       "       [0.50105237, 0.49894763, 0.        , 0.        ],\n",
       "       [0.33171727, 0.44975792, 0.21852481, 0.        ],\n",
       "       [0.26512893, 0.2737863 , 0.17823413, 0.28285064]])"
      ]
     },
     "execution_count": 15,
     "metadata": {},
     "output_type": "execute_result"
    }
   ],
   "source": [
    "attention = softmax(scaled + mask)\n",
    "attention"
   ]
  },
  {
   "cell_type": "code",
   "execution_count": 16,
   "metadata": {},
   "outputs": [
    {
     "data": {
      "text/plain": [
       "array([[0.77113831, 0.28168928, 0.04169793, 0.70078286, 0.95780301,\n",
       "        0.13583416, 0.08558999, 0.12378819],\n",
       "       [0.62874987, 0.19704192, 0.17316688, 0.4800607 , 0.86018837,\n",
       "        0.21150272, 0.33874335, 0.13940346],\n",
       "       [0.67174103, 0.3132913 , 0.22537133, 0.44601642, 0.72451585,\n",
       "        0.22800631, 0.40785925, 0.3154687 ],\n",
       "       [0.73318686, 0.25382936, 0.41859253, 0.48815364, 0.61266042,\n",
       "        0.18794658, 0.42078053, 0.26106226]])"
      ]
     },
     "execution_count": 16,
     "metadata": {},
     "output_type": "execute_result"
    }
   ],
   "source": [
    "new_v = np.matmul(attention, v)\n",
    "new_v"
   ]
  },
  {
   "cell_type": "code",
   "execution_count": 17,
   "metadata": {},
   "outputs": [
    {
     "data": {
      "text/plain": [
       "array([[0.77113831, 0.28168928, 0.04169793, 0.70078286, 0.95780301,\n",
       "        0.13583416, 0.08558999, 0.12378819],\n",
       "       [0.48576079, 0.11203749, 0.30519042, 0.25840746, 0.76216195,\n",
       "        0.28749048, 0.5929646 , 0.1550846 ],\n",
       "       [0.90363364, 0.77547421, 0.33990465, 0.44541323, 0.29290804,\n",
       "        0.24549456, 0.51608346, 0.93653209],\n",
       "       [0.82970568, 0.03625615, 0.93122519, 0.53816238, 0.34591903,\n",
       "        0.10417705, 0.50825013, 0.06667975]])"
      ]
     },
     "execution_count": 17,
     "metadata": {},
     "output_type": "execute_result"
    }
   ],
   "source": [
    "v"
   ]
  },
  {
   "cell_type": "code",
   "execution_count": 18,
   "metadata": {},
   "outputs": [],
   "source": [
    "def softmax_function(x):\n",
    "    return (np.exp(x).T/ np.sum(np.exp(x), axis=-1)).T\n",
    "\n",
    "def scaled_dot_product_attention(q, k, v, mask=None):\n",
    "    dk = q.shape[-1]\n",
    "    scaled = np.matmul(q, k.T)/ math.sqrt(dk)\n",
    "    if mask is not None:\n",
    "        scaled = scaled + mask\n",
    "    attention = softmax(scaled)\n",
    "    out = np.matmul(attention, v)\n",
    "    return out, attention    "
   ]
  },
  {
   "cell_type": "code",
   "execution_count": 19,
   "metadata": {},
   "outputs": [
    {
     "name": "stdout",
     "output_type": "stream",
     "text": [
      "Q [[-0.31133363 -0.87793783 -0.31490595  2.17640748  0.3600335   1.06512027\n",
      "  -0.85942329  0.37341986]\n",
      " [-0.99770687  0.26922153 -0.55465703 -0.28162611  1.33060989  1.17128111\n",
      "  -0.61062311  0.10770465]\n",
      " [ 0.01200964  1.84521253 -0.60227995 -0.51196604 -1.91170582 -1.32014111\n",
      "   0.83236064  0.12071681]\n",
      " [ 0.18606656  1.2195091  -0.70221978 -0.63373185 -1.2063781  -0.86902947\n",
      "   0.38435486  0.76094921]]\n",
      "K [[0.9808406  0.50926205 0.71224208 0.31978649 0.69250348 0.61322205\n",
      "  0.68810579 0.98649613]\n",
      " [0.72899978 0.87485509 0.70117927 0.46789814 0.3685546  0.48470362\n",
      "  0.14961847 0.30638599]\n",
      " [0.17090021 0.255414   0.91462907 0.37681794 0.52254827 0.9262963\n",
      "  0.17388457 0.69738299]\n",
      " [0.18829599 0.60115719 0.60818373 0.12296862 0.17642633 0.50343693\n",
      "  0.06987171 0.38229689]]\n",
      "V [[0.77113831 0.28168928 0.04169793 0.70078286 0.95780301 0.13583416\n",
      "  0.08558999 0.12378819]\n",
      " [0.48576079 0.11203749 0.30519042 0.25840746 0.76216195 0.28749048\n",
      "  0.5929646  0.1550846 ]\n",
      " [0.90363364 0.77547421 0.33990465 0.44541323 0.29290804 0.24549456\n",
      "  0.51608346 0.93653209]\n",
      " [0.82970568 0.03625615 0.93122519 0.53816238 0.34591903 0.10417705\n",
      "  0.50825013 0.06667975]]\n",
      "new v [[0.77113831 0.28168928 0.04169793 0.70078286 0.95780301 0.13583416\n",
      "  0.08558999 0.12378819]\n",
      " [0.62874987 0.19704192 0.17316688 0.4800607  0.86018837 0.21150272\n",
      "  0.33874335 0.13940346]\n",
      " [0.67174103 0.3132913  0.22537133 0.44601642 0.72451585 0.22800631\n",
      "  0.40785925 0.3154687 ]\n",
      " [0.73318686 0.25382936 0.41859253 0.48815364 0.61266042 0.18794658\n",
      "  0.42078053 0.26106226]]\n",
      "attention\n",
      " [[1.         0.         0.         0.        ]\n",
      " [0.50105237 0.49894763 0.         0.        ]\n",
      " [0.33171727 0.44975792 0.21852481 0.        ]\n",
      " [0.26512893 0.2737863  0.17823413 0.28285064]]\n"
     ]
    }
   ],
   "source": [
    "values, attention = scaled_dot_product_attention(q, k, v, mask=mask)\n",
    "print(\"Q\", q)  \n",
    "print('K',k)\n",
    "print('V', v) \n",
    "print('new v', values ) \n",
    "print('attention\\n', attention)"
   ]
  },
  {
   "cell_type": "code",
   "execution_count": null,
   "metadata": {},
   "outputs": [],
   "source": []
  },
  {
   "cell_type": "code",
   "execution_count": null,
   "metadata": {},
   "outputs": [],
   "source": []
  },
  {
   "cell_type": "code",
   "execution_count": null,
   "metadata": {},
   "outputs": [],
   "source": []
  },
  {
   "cell_type": "code",
   "execution_count": null,
   "metadata": {},
   "outputs": [],
   "source": []
  }
 ],
 "metadata": {
  "kernelspec": {
   "display_name": "Python 3",
   "language": "python",
   "name": "python3"
  },
  "language_info": {
   "codemirror_mode": {
    "name": "ipython",
    "version": 3
   },
   "file_extension": ".py",
   "mimetype": "text/x-python",
   "name": "python",
   "nbconvert_exporter": "python",
   "pygments_lexer": "ipython3",
   "version": "3.11.8"
  }
 },
 "nbformat": 4,
 "nbformat_minor": 2
}
